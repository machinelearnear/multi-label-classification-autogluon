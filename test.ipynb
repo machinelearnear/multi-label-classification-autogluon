{
 "cells": [
  {
   "cell_type": "markdown",
   "id": "29d97367-0b9a-4f59-8619-f4b1e051db7c",
   "metadata": {},
   "source": [
    "# Multi-label classification using `AutoGluon`"
   ]
  },
  {
   "cell_type": "markdown",
   "id": "d5fc65cd-19f3-4d9d-8c4c-5cb008fb6b30",
   "metadata": {},
   "source": [
    "- https://auto.gluon.ai/stable/index.html\n",
    "- [Documentation - Text Prediction - Customisation](https://auto.gluon.ai/stable/tutorials/text_prediction/customization.html)"
   ]
  },
  {
   "cell_type": "markdown",
   "id": "892f1ee9-34e5-431d-a4d7-437cb4e48f7e",
   "metadata": {},
   "source": [
    "## (0) Import libraries"
   ]
  },
  {
   "cell_type": "code",
   "execution_count": null,
   "id": "92a44c19-c343-4161-9365-e338ca52e13d",
   "metadata": {},
   "outputs": [],
   "source": [
    "import numpy as np\n",
    "import pandas as pd\n",
    "import warnings\n",
    "import os\n",
    "import matplotlib.pyplot as plt\n",
    "\n",
    "warnings.filterwarnings('ignore')\n",
    "np.random.seed(123)"
   ]
  },
  {
   "cell_type": "markdown",
   "id": "88dd39e0-3dd5-441c-a5a0-29e20437bc48",
   "metadata": {},
   "source": [
    "## (1) Data preparation"
   ]
  },
  {
   "cell_type": "code",
   "execution_count": null,
   "id": "5befeae7-7bbd-491d-87e3-878a23be9a93",
   "metadata": {},
   "outputs": [],
   "source": [
    "df = pd.read_csv('data/raw_train_test_data.csv')\n",
    "df.drop(df.columns[0],axis=1,inplace=True)\n",
    "df.head()"
   ]
  },
  {
   "cell_type": "markdown",
   "id": "0f975478-6286-4dc8-b84f-267526b43716",
   "metadata": {
    "tags": []
   },
   "source": [
    "### `Sector`"
   ]
  },
  {
   "cell_type": "code",
   "execution_count": null,
   "id": "605586ec-955f-4b7e-ab2c-352a0c2bdaf6",
   "metadata": {},
   "outputs": [],
   "source": [
    "df_sector = df.dropna(subset=['Sector'])\n",
    "df_sector['Sector'] = df_sector['Sector'].replace(['Educaiton'],'Education')"
   ]
  },
  {
   "cell_type": "code",
   "execution_count": null,
   "id": "8db137b4-f70b-4a32-b64d-21c0b9c88ef5",
   "metadata": {},
   "outputs": [],
   "source": [
    "df_sector = df_sector.drop(['Category', 'Subcategory', 'Tag'], axis=1)\n",
    "df_sector.head()"
   ]
  },
  {
   "cell_type": "code",
   "execution_count": null,
   "id": "d67b5c6c-14b1-42a2-9a21-b69101fc3e04",
   "metadata": {},
   "outputs": [],
   "source": [
    "df_sector['Sector'].value_counts().plot.bar()\n",
    "plt.show()"
   ]
  },
  {
   "cell_type": "code",
   "execution_count": null,
   "id": "5900d47d-deb6-4204-8910-5d4d266e67e1",
   "metadata": {},
   "outputs": [],
   "source": [
    "df_sector = df_sector.drop_duplicates(subset=['Case Details'])\n",
    "df_sector['Sector'].value_counts().plot.bar()"
   ]
  },
  {
   "cell_type": "code",
   "execution_count": null,
   "id": "a863744b-5680-4ad0-8876-098c3599d1bb",
   "metadata": {},
   "outputs": [],
   "source": [
    "df_sector.shape"
   ]
  },
  {
   "cell_type": "code",
   "execution_count": null,
   "id": "5937cd98-64f1-4738-9dc2-ac5d7dff4fa1",
   "metadata": {},
   "outputs": [],
   "source": [
    "# prepare for training\n",
    "df_sector.columns = ['sentence','label']\n",
    "df_sector = df_sector[['label','sentence']]\n",
    "codes, uniques = pd.factorize(df_sector['label'])\n",
    "df_sector['label'] = codes\n",
    "\n",
    "# print labels and codes\n",
    "for x,y in zip(df_sector['label'].unique(), uniques.values):\n",
    "    print(f'{x} => \"{y}\"')\n",
    "    \n",
    "# save to disk\n",
    "df_sector.to_csv('data/data_sector.csv', index=False)"
   ]
  },
  {
   "cell_type": "markdown",
   "id": "59a7732d-dc88-4a24-b24a-fb5e53f2589f",
   "metadata": {},
   "source": [
    "### `Category`"
   ]
  },
  {
   "cell_type": "code",
   "execution_count": null,
   "id": "6f00c852-4703-4fa7-94ab-ee0ad21c1c31",
   "metadata": {},
   "outputs": [],
   "source": [
    "df_category = df.dropna(subset=['Category'])"
   ]
  },
  {
   "cell_type": "code",
   "execution_count": null,
   "id": "f68e1900-c85d-4ba3-aa7d-44be5e442289",
   "metadata": {},
   "outputs": [],
   "source": [
    "df_category = df_category.drop(['Sector', 'Subcategory', 'Tag'], axis=1)\n",
    "df_category.head()"
   ]
  },
  {
   "cell_type": "code",
   "execution_count": null,
   "id": "8f1cfa9d-9b97-4a66-b60e-e9d033bedb3a",
   "metadata": {},
   "outputs": [],
   "source": [
    "# prepare for training\n",
    "df_category.columns = ['sentence','label']\n",
    "df_category = df_category[['label','sentence']]\n",
    "codes, uniques = pd.factorize(df_category['label'])\n",
    "df_category['label'] = codes\n",
    "\n",
    "# print labels and codes\n",
    "for x,y in zip(df_category['label'].unique(), uniques.values):\n",
    "    print(f'{x} => \"{y}\"')\n",
    "    \n",
    "# save to disk\n",
    "df_category.to_csv('data/data_category.csv', index=False)"
   ]
  },
  {
   "cell_type": "code",
   "execution_count": null,
   "id": "cd918631-cb0b-4c20-9dd1-7464d3a7f3ea",
   "metadata": {},
   "outputs": [],
   "source": [
    "df_category.head()"
   ]
  },
  {
   "cell_type": "markdown",
   "id": "ade2d3b3-9017-409e-9084-bc1806a4ab1a",
   "metadata": {},
   "source": [
    "### `Sub-category`"
   ]
  },
  {
   "cell_type": "code",
   "execution_count": null,
   "id": "fb6a5264-fdc1-4186-aa22-cb925a2f9b7f",
   "metadata": {},
   "outputs": [],
   "source": [
    "df_subcategory = df.dropna(subset=['Subcategory'])\n",
    "df_subcategory = df_subcategory.drop(['Sector', 'Tag'], axis=1)\n",
    "df_subcategory.head()"
   ]
  },
  {
   "cell_type": "code",
   "execution_count": null,
   "id": "0d0d7f47-01fd-4c6d-a3d2-c89a51370c08",
   "metadata": {},
   "outputs": [],
   "source": [
    "# prepare for training\n",
    "df_subcategory.columns = ['sentence1','sentence2','label']\n",
    "df_subcategory = df_subcategory[['label','sentence1','sentence2']]\n",
    "codes, uniques = pd.factorize(df_subcategory['label'])\n",
    "df_subcategory['label'] = codes\n",
    "\n",
    "# print labels and codes\n",
    "for x,y in zip(df_subcategory['label'].unique(), uniques.values):\n",
    "    print(f'{x} => \"{y}\"')\n",
    "    \n",
    "# save to disk\n",
    "df_subcategory.to_csv('data/data_subcategory.csv', index=False)"
   ]
  },
  {
   "cell_type": "code",
   "execution_count": null,
   "id": "e8d43994-8105-4d57-9adc-172ce63fd351",
   "metadata": {},
   "outputs": [],
   "source": [
    "df_subcategory.head()"
   ]
  },
  {
   "cell_type": "markdown",
   "id": "a94457bd-6c60-4dbf-be66-64d96f4385e5",
   "metadata": {},
   "source": [
    "## (2) Model training (`Sector`)"
   ]
  },
  {
   "cell_type": "markdown",
   "id": "545e0d00-c9bd-489d-8e02-2d97a7e18d44",
   "metadata": {},
   "source": [
    "### Approach A: Using `TabularPredictor`\n",
    "- https://auto.gluon.ai/scoredebugweight/api/autogluon.task.html#autogluon.tabular.TabularPredictor"
   ]
  },
  {
   "cell_type": "code",
   "execution_count": null,
   "id": "994b4f9b-770e-4beb-a1b9-3cc5a3135c42",
   "metadata": {},
   "outputs": [],
   "source": [
    "from autogluon.tabular import TabularPredictor\n",
    "time_limit = 1 * 60 * 60\n",
    "pred_sector = TabularPredictor(label='label', path='pred_sector')\n",
    "pred_sector.fit(df_sector, hyperparameters='multimodal', time_limit=time_limit)"
   ]
  },
  {
   "cell_type": "code",
   "execution_count": null,
   "id": "ccd7d0b5-543e-4c84-8fa2-16106b8440c1",
   "metadata": {},
   "outputs": [],
   "source": [
    "leaderboard = pred_sector.leaderboard(df_sector)\n",
    "leaderboard.to_csv('data/leaderboard.csv',index=False)\n",
    "leaderboard.head()"
   ]
  },
  {
   "cell_type": "markdown",
   "id": "df172854-6976-4b90-a44f-10144c6f5c35",
   "metadata": {},
   "source": [
    "### (Optional) Use `StackEnsemble`\n",
    "- https://auto.gluon.ai/stable/tutorials/tabular_prediction/tabular-multimodal-text-others.html#improve-the-performance-with-stack-ensemble"
   ]
  },
  {
   "cell_type": "code",
   "execution_count": null,
   "id": "a78e36ff-48b1-424b-b7f3-9058c8bf8b38",
   "metadata": {},
   "outputs": [],
   "source": [
    "# time_limit = 1 * 60 * 60\n",
    "# pred_sector_ensemble = TabularPredictor(label='Sector', path='predict_sector_stack_ensemble')\n",
    "# pred_sector_ensemble.fit(df_sector, hyperparameters='multimodal', presets='best_quality', time_limit=time_limit)"
   ]
  },
  {
   "cell_type": "markdown",
   "id": "12780180-3be9-403a-ac07-d3555776cf53",
   "metadata": {},
   "source": [
    "## Approach B: Using `TextPredictor`\n",
    "- https://auto.gluon.ai/stable/tutorials/tabular_prediction/tabular-multimodal-text-others.html#improve-the-performance-with-stack-ensemble\n",
    "- https://auto.gluon.ai/stable/tutorials/text_prediction/customization.html"
   ]
  },
  {
   "cell_type": "markdown",
   "id": "53bfdf34-8556-4b8c-bbff-9b283797a838",
   "metadata": {},
   "source": [
    "`TextPredictor` provides several simple preset configurations. Let’s take a look at the available presets."
   ]
  },
  {
   "cell_type": "code",
   "execution_count": null,
   "id": "75da8033-a9ee-4060-9d9a-3431b320a297",
   "metadata": {},
   "outputs": [],
   "source": [
    "from autogluon.text.text_prediction.presets import list_text_presets\n",
    "list_text_presets(verbose=True)"
   ]
  },
  {
   "cell_type": "code",
   "execution_count": null,
   "id": "7593b46a-4b01-44f0-8c6e-32ce881e7d73",
   "metadata": {},
   "outputs": [],
   "source": [
    "# split train/test data\n",
    "train_data = df_sector.sample(frac=0.9, random_state=42)\n",
    "test_data = df_sector.drop(train_data.index)\n",
    "label = \"label\"\n",
    "y_test = test_data[label]\n",
    "X_test = test_data.drop(columns=[label])"
   ]
  },
  {
   "cell_type": "code",
   "execution_count": null,
   "id": "289eb4db-3e2d-4919-a5d0-7aacec07a8c7",
   "metadata": {},
   "outputs": [],
   "source": [
    "print(train_data.shape)\n",
    "print(test_data.shape)"
   ]
  },
  {
   "cell_type": "markdown",
   "id": "b26c979e-baeb-4634-bf31-9cdc910d94c0",
   "metadata": {},
   "source": [
    "### Model training"
   ]
  },
  {
   "cell_type": "code",
   "execution_count": null,
   "id": "81c3e465-61a2-42d2-b8ab-aedc57df4420",
   "metadata": {
    "tags": []
   },
   "outputs": [],
   "source": [
    "from autogluon.text import TextPredictor\n",
    "time_limit = 1 * 60 * 60\n",
    "pred_sector_textpred = TextPredictor(eval_metric=\"acc\", label=\"label\")\n",
    "pred_sector_textpred.fit(\n",
    "    train_data=train_data,\n",
    "    presets=\"medium_quality_faster_train\",\n",
    "    time_limit=time_limit,\n",
    ")"
   ]
  },
  {
   "cell_type": "markdown",
   "id": "264f28a4-b7b7-46af-a964-ba5371ed6da9",
   "metadata": {},
   "source": [
    "### Evaluate against `test_data`"
   ]
  },
  {
   "cell_type": "code",
   "execution_count": null,
   "id": "231c1fe0-a72c-4b43-80f1-0c3fd5109baf",
   "metadata": {},
   "outputs": [],
   "source": [
    "pred_sector_textpred.evaluate(test_data, metrics=[\"f1\", \"acc\"])"
   ]
  },
  {
   "cell_type": "markdown",
   "id": "720c445b-2bbe-4dcb-8d60-a57632587c81",
   "metadata": {},
   "source": [
    "## (4) Model inference against `validation` data"
   ]
  },
  {
   "cell_type": "code",
   "execution_count": null,
   "id": "1da3afe4-ebf1-46b4-b690-1d30206df03c",
   "metadata": {},
   "outputs": [],
   "source": [
    "validation_df = pd.read_excel('data/validation_set.xlsx')\n",
    "val_data = validation_df.drop(columns=['Case Category','Gender','District'])\n",
    "val_data.columns = ['sentence']"
   ]
  },
  {
   "cell_type": "code",
   "execution_count": null,
   "id": "3ee68889-ff54-4492-a596-bce250bb55d2",
   "metadata": {},
   "outputs": [],
   "source": [
    "output = pred_sector.predict(val_data)\n",
    "output.head()"
   ]
  },
  {
   "cell_type": "code",
   "execution_count": null,
   "id": "b3f79782-cb80-4221-9612-07dd2df4dce8",
   "metadata": {},
   "outputs": [],
   "source": [
    "output_df = val_data.copy()\n",
    "output_df['predicted'] = output\n",
    "output_df.head()"
   ]
  },
  {
   "cell_type": "code",
   "execution_count": null,
   "id": "4d4beb93-f1cd-4271-9ff4-9b2e48e224a3",
   "metadata": {},
   "outputs": [],
   "source": [
    "output_df.to_csv('data/output.csv',index=False)"
   ]
  }
 ],
 "metadata": {
  "instance_type": "ml.t3.medium",
  "kernelspec": {
   "display_name": "machinelearnear-autogluon:Python",
   "language": "python",
   "name": "conda-env-machinelearnear-autogluon-py"
  },
  "language_info": {
   "codemirror_mode": {
    "name": "ipython",
    "version": 3
   },
   "file_extension": ".py",
   "mimetype": "text/x-python",
   "name": "python",
   "nbconvert_exporter": "python",
   "pygments_lexer": "ipython3",
   "version": "3.9.13"
  }
 },
 "nbformat": 4,
 "nbformat_minor": 5
}
